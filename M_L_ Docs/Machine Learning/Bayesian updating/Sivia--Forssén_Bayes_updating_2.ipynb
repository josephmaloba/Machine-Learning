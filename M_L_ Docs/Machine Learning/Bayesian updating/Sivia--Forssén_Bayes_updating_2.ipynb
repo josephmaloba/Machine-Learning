{
 "cells": [
  {
   "cell_type": "code",
   "execution_count": 3,
   "metadata": {
    "id": "BbuOMBxQEOmg"
   },
   "outputs": [],
   "source": [
    "# copyright 2022 Christian Forssén\n",
    "# by Christian Forssén\n",
    "# For detailed reasoning, see Data Analysis: A Bayesian Tutorial (2E) by D. S. Sivia with J. Skilling (ISBN 978-0-19-856832-2).\n",
    "\n",
    "import scipy.stats as stats\n",
    "import numpy as np\n",
    "import matplotlib.pyplot as plt\n",
    "rng = np.random.default_rng(seed=999)         # for reproducibility\n",
    "pHtrue=0.6                       # biased coin\n",
    "flips=rng.random(2**12) # simulates 4096 coin flips\n",
    "heads=flips<pHtrue              # boolean array, heads[i]=True if flip i is heads"
   ]
  },
  {
   "cell_type": "code",
   "execution_count": 13,
   "metadata": {
    "id": "fhnwyLV0Eqlh"
   },
   "outputs": [],
   "source": []
  },
  {
   "cell_type": "code",
   "execution_count": 5,
   "metadata": {
    "id": "ujn2k21VEPfF"
   },
   "outputs": [],
   "source": [
    "# copyright 2022 Christian Forssén\n",
    "# by Christian Forssén\n",
    "# For detailed reasoning, see Data Analysis: A Bayesian Tutorial (2E) by D. S. Sivia with J. Skilling (ISBN 978-0-19-856832-2).\n",
    "\n",
    "def dist_stuff(dist):\n",
    "    \"\"\"\n",
    "    Finds the median, mean, and 68%/95% credible intervals for the given\n",
    "    1-d distribution (which is an object from scipy.stats).\n",
    "    \"\"\"\n",
    "    # For x = median, mean: return x and the value of the pdf at x as a list\n",
    "    median = [dist.median(), dist.pdf(dist.median())]\n",
    "    mean = [dist.mean(), dist.pdf(dist.mean())]\n",
    "    # The left and right limits of the credibility interval are returned\n",
    "    cred68 = dist.interval(0.68)\n",
    "    cred95 = dist.interval(0.95)\n",
    "    return median, mean, cred68, cred95"
   ]
  },
  {
   "cell_type": "code",
   "execution_count": 9,
   "metadata": {
    "id": "8PH7ejr4ES69"
   },
   "outputs": [],
   "source": [
    "# copyright 2022 Christian Forssén\n",
    "# by Christian Forssén\n",
    "# For detailed reasoning, see Data Analysis: A Bayesian Tutorial (2E) by D. S. Sivia with J. Skilling (ISBN 978-0-19-856832-2).\n",
    "\n",
    "def dist_mode(dist, x):\n",
    "    \"\"\"\n",
    "    Return the mode (maximum) of the 1-d distribution for array x.\n",
    "    \"\"\"\n",
    "    x_max_index = dist.pdf(x).argmax()\n",
    "    # Return x of the maximum and the value of the pdf at that x\n",
    "    mode = [x[x_max_index], dist.pdf(x[x_max_index])]\n",
    "    return mode"
   ]
  },
  {
   "cell_type": "code",
   "execution_count": 11,
   "metadata": {
    "id": "jisVAks4EYiw"
   },
   "outputs": [],
   "source": [
    "# copyright 2022 Christian Forssén\n",
    "# by Christian Forssén\n",
    "# For detailed reasoning, see Data Analysis: A Bayesian Tutorial (2E) by D. S. Sivia with J. Skilling (ISBN 978-0-19-856832-2).\n",
    "\n",
    "def print_uniform_prior_measures(N,heads):\n",
    "    \"\"\"\n",
    "    Prints out the mean, and 68 and 95 CIs for a uniform prior. Note that this means alpha=beta=1.\n",
    "    \"\"\"\n",
    "    x = np.linspace(0, 1, 301)   # mesh for posterior plots (enough so smooth)\n",
    "    median, mean, cred68, cred95 = dist_stuff(stats.beta(1+heads,1+N-heads))\n",
    "    mode=dist_mode(stats.beta(1+heads,1+N-heads),x)\n",
    "    print(f'For a uniform prior, and {heads} heads out of {N} tosses:')\n",
    "    print(f'  mean={mean[0]:.3f}; Mode={mode[0]:.3f}')\n",
    "    print(f'  68% DoB interval=[{cred68[0]:.3f},{cred68[1]:.3f}]')\n",
    "    print(f'  95% DoB interval=[{cred95[0]:.3f},{cred95[1]:.3f}]')\n",
    "    return"
   ]
  },
  {
   "cell_type": "code",
   "execution_count": 13,
   "metadata": {
    "colab": {
     "base_uri": "https://localhost:8080/"
    },
    "id": "Vi_30D7oEdCa",
    "outputId": "9f655489-f789-4c5b-cfa9-5e2107cb3201"
   },
   "outputs": [
    {
     "name": "stdout",
     "output_type": "stream",
     "text": [
      "For a uniform prior, and 4 heads out of 10 tosses:\n",
      "  mean=0.417; Mode=0.400\n",
      "  68% DoB interval=[0.276,0.558]\n",
      "  95% DoB interval=[0.167,0.692]\n"
     ]
    }
   ],
   "source": [
    "# copyright 2022 Christian Forssén\n",
    "# by Christian Forssén\n",
    "# For detailed reasoning, see Data Analysis: A Bayesian Tutorial (2E) by D. S. Sivia with J. Skilling (ISBN 978-0-19-856832-2).\n",
    "\n",
    "num_coin_tosses=10\n",
    "print_uniform_prior_measures(num_coin_tosses,np.sum(heads[:num_coin_tosses]))"
   ]
  },
  {
   "cell_type": "code",
   "execution_count": 15,
   "metadata": {
    "colab": {
     "base_uri": "https://localhost:8080/"
    },
    "id": "7FyxQTCrEgas",
    "outputId": "647744bf-c8e4-47c8-acb3-4f152279b0df"
   },
   "outputs": [
    {
     "name": "stdout",
     "output_type": "stream",
     "text": [
      "The actual value of p_H is 0.6\n"
     ]
    }
   ],
   "source": [
    "# copyright 2022 Christian Forssén\n",
    "# by Christian Forssén\n",
    "# For detailed reasoning, see Data Analysis: A Bayesian Tutorial (2E) by D. S. Sivia with J. Skilling (ISBN 978-0-19-856832-2).\n",
    "\n",
    "print('The actual value of p_H is',pHtrue)"
   ]
  },
  {
   "cell_type": "code",
   "execution_count": 17,
   "metadata": {
    "id": "QuevntinFC7f"
   },
   "outputs": [],
   "source": [
    "# copyright 2022 Christian Forssén\n",
    "# by Christian Forssén\n",
    "# For detailed reasoning, see Data Analysis: A Bayesian Tutorial (2E) by D. S. Sivia with J. Skilling (ISBN 978-0-19-856832-2).\n",
    "\n",
    "def print_frequentist_estimators(N,heads):\n",
    "    \"\"\"\n",
    "    Finds the mean, and 68 and 95 CIs. Note that this means alpha_1=beta_1=1.\n",
    "    \"\"\"\n",
    "    mean=heads/N\n",
    "    sigma=np.sqrt(mean*(1-mean)/N)\n",
    "    print(f'For {heads} heads out of {N} tosses, the frequentist 68% confidence interval=',\\\n",
    "          f'({mean-sigma:.3f},{mean+sigma:.3f})')\n",
    "    return"
   ]
  },
  {
   "cell_type": "code",
   "execution_count": 19,
   "metadata": {
    "colab": {
     "base_uri": "https://localhost:8080/"
    },
    "id": "BNxpGd2rFGj0",
    "outputId": "01c2d87e-8fe5-46a3-aceb-fcafcf5da46d"
   },
   "outputs": [
    {
     "name": "stdout",
     "output_type": "stream",
     "text": [
      "For 4 heads out of 10 tosses, the frequentist 68% confidence interval= (0.245,0.555)\n"
     ]
    }
   ],
   "source": [
    "# copyright 2022 Christian Forssén\n",
    "# by Christian Forssén\n",
    "# For detailed reasoning, see Data Analysis: A Bayesian Tutorial (2E) by D. S. Sivia with J. Skilling (ISBN 978-0-19-856832-2).\n",
    "\n",
    "print_frequentist_estimators(num_coin_tosses,np.sum(heads[:num_coin_tosses]))"
   ]
  },
  {
   "cell_type": "markdown",
   "metadata": {
    "id": "UjwjVu0xFKY8",
    "jp-MarkdownHeadingCollapsed": true
   },
   "source": [
    ">"
   ]
  },
  {
   "cell_type": "markdown",
   "metadata": {},
   "source": [
    "<h3>2. The frequentist mean is closest to the Bayesian posterior mean, as both represent an average estimate of the parameter based on observed data. In Bayesian analysis with a uniform prior, the posterior mean aligns closely with the sample mean from frequentist statistics.</h3>\n",
    "\n",
    "<h3></h3>\n",
    "\n",
    "<h3>3. The frequentist 68% confidence interval and the Bayesian 68% Degree of Belief (DoB) interval are not the same; they arise from different interpretations of probability. The confidence interval reflects repeated sampling behavior, while the DoB interval provides a direct probability statement about the parameter based on prior beliefs and observed data. No, they are not the same, but they are quite similar since both aim to estimate the same parameter. However, they differ in their calculations: the Bayesian approach focuses on the parameters and incorporates prior beliefs, while the frequentist approach relies solely on the data</h3>"
   ]
  },
  {
   "cell_type": "code",
   "execution_count": null,
   "metadata": {},
   "outputs": [],
   "source": []
  }
 ],
 "metadata": {
  "colab": {
   "provenance": []
  },
  "kernelspec": {
   "display_name": "anaconda-panel-2023.05-py310",
   "language": "python",
   "name": "conda-env-anaconda-panel-2023.05-py310-py"
  },
  "language_info": {
   "codemirror_mode": {
    "name": "ipython",
    "version": 3
   },
   "file_extension": ".py",
   "mimetype": "text/x-python",
   "name": "python",
   "nbconvert_exporter": "python",
   "pygments_lexer": "ipython3",
   "version": "3.11.5"
  }
 },
 "nbformat": 4,
 "nbformat_minor": 4
}
