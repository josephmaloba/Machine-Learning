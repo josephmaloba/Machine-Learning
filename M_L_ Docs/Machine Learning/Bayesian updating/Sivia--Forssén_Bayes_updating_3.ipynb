{
 "cells": [
  {
   "cell_type": "code",
   "execution_count": 10,
   "metadata": {
    "id": "cU3FFfJNGqTn"
   },
   "outputs": [],
   "source": [
    "# copyright 2022 Christian Forssén\n",
    "# by Christian Forssén\n",
    "# For detailed reasoning, see Data Analysis: A Bayesian Tutorial (2E) by D. S. Sivia with J. Skilling (ISBN 978-0-19-856832-2).\n",
    "\n",
    "import numpy as np\n",
    "import matplotlib.pyplot as plt\n",
    "import scipy.stats as stats\n",
    "rng = np.random.default_rng(seed=999)         # for reproducibility\n",
    "pHtrue=0.6                       # biased coin\n",
    "flips=rng.random(2**12) # simulates 4096 coin flips\n",
    "heads=flips<pHtrue              # boolean array, heads[i]=True if flip i is heads\n",
    "num_coin_tosses=10"
   ]
  },
  {
   "cell_type": "code",
   "execution_count": 12,
   "metadata": {
    "id": "fsw1ydluGw6y"
   },
   "outputs": [],
   "source": [
    "# copyright 2022 Christian Forssén\n",
    "# by Christian Forssén\n",
    "# For detailed reasoning, see Data Analysis: A Bayesian Tutorial (2E) by D. S. Sivia with J. Skilling (ISBN 978-0-19-856832-2).\n",
    "\n",
    "def print_likely_fair_prior_measures(N,heads):\n",
    "    \"\"\"\n",
    "    Prints out the mean, and 68 and 95 CIs for the \"coin is likely fair\" prior. This means alpha=beta=30.\n",
    "    \"\"\"\n",
    "    x = np.linspace(0, 1, 301)   # mesh for posterior plots (enough so smooth)\n",
    "    median, mean, cred68, cred95 = dist_stuff(stats.beta(30+heads,30+N-heads))\n",
    "    mode=dist_mode(stats.beta(1+heads,1+N-heads),x)\n",
    "    print('For the trusting-person`s prior, and',heads,'heads out of',N,'tosses:')\n",
    "    print (f'Mean={mean[0]:.3f}; Mode={mode[0]:.3f}')\n",
    "    print (f'68% DoB interval=[{cred68[0]:.3f},{cred68[1]:.3f}]')\n",
    "    print (f'95% DoB interval=[{cred95[0]:.3f},{cred95[1]:.3f}]')\n",
    "    return"
   ]
  },
  {
   "cell_type": "code",
   "execution_count": 14,
   "metadata": {
    "colab": {
     "base_uri": "https://localhost:8080/"
    },
    "id": "W2hTzIEzG5CY",
    "outputId": "da331f5c-24b5-45a9-dd13-89bf8ba7dc2a"
   },
   "outputs": [],
   "source": [
    "# copyright 2022 Christian Forssén\n",
    "# by Christian Forssén\n",
    "# For detailed reasoning, see Data Analysis: A Bayesian Tutorial (2E) by D. S. Sivia with J. Skilling (ISBN 978-0-19-856832-2).\n",
    "\n",
    "def dist_stuff(dist):\n",
    "    \"\"\"\n",
    "    Finds the median, mean, and 68%/95% credible intervals for the given\n",
    "    1-d distribution (which is an object from scipy.stats).\n",
    "    \"\"\"\n",
    "    # For x = median, mean: return x and the value of the pdf at x as a list\n",
    "    median = [dist.median(), dist.pdf(dist.median())]\n",
    "    mean = [dist.mean(), dist.pdf(dist.mean())]\n",
    "    # The left and right limits of the credibility interval are returned\n",
    "    cred68 = dist.interval(0.68)\n",
    "    cred95 = dist.interval(0.95)\n",
    "    return median, mean, cred68, cred95\n",
    "\n"
   ]
  },
  {
   "cell_type": "code",
   "execution_count": 16,
   "metadata": {
    "id": "GzJihM-JKKMG"
   },
   "outputs": [],
   "source": [
    "# copyright 2022 Christian Forssén\n",
    "# by Christian Forssén\n",
    "# For detailed reasoning, see Data Analysis: A Bayesian Tutorial (2E) by D. S. Sivia with J. Skilling (ISBN 978-0-19-856832-2).\n",
    "\n",
    "def dist_mode(dist, x):\n",
    "    \"\"\"\n",
    "    Return the mode (maximum) of the 1-d distribution for array x.\n",
    "    \"\"\"\n",
    "    x_max_index = dist.pdf(x).argmax()\n",
    "    # Return x of the maximum and the value of the pdf at that x\n",
    "    mode = [x[x_max_index], dist.pdf(x[x_max_index])]\n",
    "    return mode"
   ]
  },
  {
   "cell_type": "code",
   "execution_count": 18,
   "metadata": {
    "id": "7fvs7zjwKOC4"
   },
   "outputs": [
    {
     "name": "stdout",
     "output_type": "stream",
     "text": [
      "For a uniform prior, and 4 heads out of 10 tosses:\n",
      "  mean=0.417; Mode=0.400\n",
      "  68% DoB interval=[0.276,0.558]\n",
      "  95% DoB interval=[0.167,0.692]\n",
      "For the trusting-person`s prior, and 4 heads out of 10 tosses:\n",
      "Mean=0.486; Mode=0.400\n",
      "68% DoB interval=[0.426,0.545]\n",
      "95% DoB interval=[0.370,0.602]\n"
     ]
    }
   ],
   "source": [
    "# copyright 2022 Christian Forssén\n",
    "# by Christian Forssén\n",
    "# For detailed reasoning, see Data Analysis: A Bayesian Tutorial (2E) by D. S. Sivia with J. Skilling (ISBN 978-0-19-856832-2).\n",
    "\n",
    "def print_uniform_prior_measures(N,heads):\n",
    "    \"\"\"\n",
    "    Prints out the mean, and 68 and 95 CIs for a uniform prior. Note that this means alpha=beta=1.\n",
    "    \"\"\"\n",
    "    x = np.linspace(0, 1, 301)   # mesh for posterior plots (enough so smooth)\n",
    "    median, mean, cred68, cred95 = dist_stuff(stats.beta(1+heads,1+N-heads))\n",
    "    mode=dist_mode(stats.beta(1+heads,1+N-heads),x)\n",
    "    print(f'For a uniform prior, and {heads} heads out of {N} tosses:')\n",
    "    print(f'  mean={mean[0]:.3f}; Mode={mode[0]:.3f}')\n",
    "    print(f'  68% DoB interval=[{cred68[0]:.3f},{cred68[1]:.3f}]')\n",
    "    print(f'  95% DoB interval=[{cred95[0]:.3f},{cred95[1]:.3f}]')\n",
    "    return\n",
    "print_uniform_prior_measures(num_coin_tosses,np.sum(heads[:num_coin_tosses]))\n",
    "print_likely_fair_prior_measures(num_coin_tosses,np.sum(heads[:num_coin_tosses]))"
   ]
  },
  {
   "cell_type": "code",
   "execution_count": 20,
   "metadata": {
    "colab": {
     "base_uri": "https://localhost:8080/"
    },
    "id": "L9S4mIMvG8qT",
    "outputId": "0c75f85c-db55-4c44-a151-24f2e3cd7d34"
   },
   "outputs": [
    {
     "name": "stdout",
     "output_type": "stream",
     "text": [
      "For the highly suspicious person's prior, and 4 heads out of 10 tosses:\n",
      "Mean=0.404; Mode=0.400\n",
      "68% DoB interval=[0.253,0.555]\n",
      "95% DoB interval=[0.144,0.699]\n"
     ]
    }
   ],
   "source": [
    "# copyright 2022 Christian Forssén\n",
    "# by Christian Forssén\n",
    "# For detailed reasoning, see Data Analysis: A Bayesian Tutorial (2E) by D. S. Sivia with J. Skilling (ISBN 978-0-19-856832-2).\n",
    "\n",
    "def print_likely_unfair_prior_measures(N,heads):\n",
    "    \"\"\"\n",
    "    Prints out the mean, and 68 and 95 CIs for the \"coin is likely unfair\" prior. This means alpha=beta=0.2.\n",
    "    \"\"\"\n",
    "    x = np.linspace(0, 1, 301)   # mesh for posterior plots (enough so smooth)\n",
    "    median, mean, cred68, cred95 = dist_stuff(stats.beta(0.2+heads,0.2+N-heads))\n",
    "    mode=dist_mode(stats.beta(1+heads,1+N-heads),x)\n",
    "    print('For the highly suspicious person\\'s prior, and',heads,'heads out of',N,'tosses:')\n",
    "    print (f'Mean={mean[0]:.3f}; Mode={mode[0]:.3f}')\n",
    "    print (f'68% DoB interval=[{cred68[0]:.3f},{cred68[1]:.3f}]')\n",
    "    print (f'95% DoB interval=[{cred95[0]:.3f},{cred95[1]:.3f}]')\n",
    "    return\n",
    "print_likely_unfair_prior_measures(num_coin_tosses,np.sum(heads[:num_coin_tosses]))"
   ]
  },
  {
   "cell_type": "code",
   "execution_count": 22,
   "metadata": {},
   "outputs": [
    {
     "name": "stdout",
     "output_type": "stream",
     "text": [
      "For the uniform prior, and 4 heads out of 10 tosses:\n",
      "  Mean=0.417; Mode=0.400\n",
      "  68% DoB interval=[0.276,0.558]\n",
      "  95% DoB interval=[0.167,0.692]\n",
      "For the trusting-person's prior, and 4 heads out of 10 tosses:\n",
      "  Mean=0.486; Mode=0.487\n",
      "  68% DoB interval=[0.426,0.545]\n",
      "  95% DoB interval=[0.370,0.602]\n",
      "For the highly suspicious person's prior, and 4 heads out of 10 tosses:\n",
      "  Mean=0.404; Mode=0.380\n",
      "  68% DoB interval=[0.253,0.555]\n",
      "  95% DoB interval=[0.144,0.699]\n",
      "\n",
      "Updated priors:\n",
      "For the updated highly suspicious person's prior, and 4 heads out of 10 tosses:\n",
      "  Mean=0.402; Mode=0.377\n",
      "  68% DoB interval=[0.250,0.554]\n",
      "  95% DoB interval=[0.140,0.700]\n",
      "For the updated trusting-person's prior, and 4 heads out of 10 tosses:\n",
      "  Mean=0.490; Mode=0.490\n",
      "  68% DoB interval=[0.440,0.540]\n",
      "  95% DoB interval=[0.393,0.587]\n"
     ]
    }
   ],
   "source": [
    "def dist_stuff(dist):\n",
    "    median = [dist.median(), dist.pdf(dist.median())]\n",
    "    mean = [dist.mean(), dist.pdf(dist.mean())]\n",
    "    cred68 = dist.interval(0.68)\n",
    "    cred95 = dist.interval(0.95)\n",
    "    return median, mean, cred68, cred95\n",
    "\n",
    "def dist_mode(dist, x):\n",
    "    x_max_index = dist.pdf(x).argmax()\n",
    "    mode = [x[x_max_index], dist.pdf(x[x_max_index])]\n",
    "    return mode\n",
    "\n",
    "def print_prior_measures(N, heads, alpha, beta, prior_name):\n",
    "    x = np.linspace(0, 1, 301)\n",
    "    median, mean, cred68, cred95 = dist_stuff(stats.beta(alpha + heads, beta + N - heads))\n",
    "    mode = dist_mode(stats.beta(alpha + heads, beta + N - heads), x)\n",
    "    print(f'For the {prior_name} prior, and {heads} heads out of {N} tosses:')\n",
    "    print(f'  Mean={mean[0]:.3f}; Mode={mode[0]:.3f}')\n",
    "    print(f'  68% DoB interval=[{cred68[0]:.3f},{cred68[1]:.3f}]')\n",
    "    print(f'  95% DoB interval=[{cred95[0]:.3f},{cred95[1]:.3f}]')\n",
    "\n",
    "# Original priors\n",
    "print_prior_measures(num_coin_tosses, np.sum(heads[:num_coin_tosses]), 1, 1, \"uniform\")\n",
    "print_prior_measures(num_coin_tosses, np.sum(heads[:num_coin_tosses]), 30, 30, \"trusting-person's\")\n",
    "print_prior_measures(num_coin_tosses, np.sum(heads[:num_coin_tosses]), 0.2, 0.2, \"highly suspicious person's\")\n",
    "\n",
    "print(\"\\nUpdated priors:\")\n",
    "# Updated priors\n",
    "print_prior_measures(num_coin_tosses, np.sum(heads[:num_coin_tosses]), 0.1, 0.1, \"updated highly suspicious person's\")\n",
    "print_prior_measures(num_coin_tosses, np.sum(heads[:num_coin_tosses]), 45, 45, \"updated trusting-person's\")"
   ]
  },
  {
   "cell_type": "markdown",
   "metadata": {},
   "source": [
    "<h3>1. For the data above we can see three different convidence interval dependent on the prior given. I think the best approach in this case is that the coin is likely fair, which reflects a trusting perspective. I will say that People would assume that coins are normal until they have a good reason for questioning, for example when they are aware of the place the coin came from.  Hence, we can wade through the information and only start to feel a little weirdly if something out of the ordinary shows up. It seems like we are walking on the dangling rope of trying to be cool and cautious at the same time: not jumping to conclusions too quickly.</h3>\n",
    "\n",
    "<h3>2. For the second part I chose to change the suspicious person's prior. By adjusting first the suspicious person's prior from alpha and beta both being 0.2 down to 0.1. Then, I changed the trusting person's prior from alpha and beta being 30 to 45.</h3>\n",
    "\n",
    "<h3>For the suspicious prior, the confidence interval got a bit wider. This makes sense because with lower alpha and beta, it's more easily swayed by the actual results.</h3>\n",
    "\n",
    "<h3>For the trusting prior, the confidence interval got narrower, and the mean moved closer to 0.5. This shows that by increasing alpha and beta, we're putting more weight on our belief that the coin is fair.</h3>\n",
    "\n",
    "<h3>Overall, it’s interesting to see how our initial beliefs can shape our conclusions based on what we observe! </h3>\n"
   ]
  },
  {
   "cell_type": "code",
   "execution_count": null,
   "metadata": {},
   "outputs": [],
   "source": []
  }
 ],
 "metadata": {
  "colab": {
   "provenance": []
  },
  "kernelspec": {
   "display_name": "anaconda-ai-2024.04-py310",
   "language": "python",
   "name": "conda-env-anaconda-ai-2024.04-py310-py"
  },
  "language_info": {
   "codemirror_mode": {
    "name": "ipython",
    "version": 3
   },
   "file_extension": ".py",
   "mimetype": "text/x-python",
   "name": "python",
   "nbconvert_exporter": "python",
   "pygments_lexer": "ipython3",
   "version": "3.10.13"
  }
 },
 "nbformat": 4,
 "nbformat_minor": 4
}
