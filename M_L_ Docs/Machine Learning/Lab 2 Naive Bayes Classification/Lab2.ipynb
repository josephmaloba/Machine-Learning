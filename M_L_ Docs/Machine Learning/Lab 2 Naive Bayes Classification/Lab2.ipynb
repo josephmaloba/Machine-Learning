{
 "cells": [
  {
   "cell_type": "markdown",
   "id": "166f949c",
   "metadata": {},
   "source": [
    "## Lab 2: The Naïve Bayes Classifier\n",
    "\n",
    "Part 1:\n",
    "Test set label: JUNK\n",
    "P(medium, JUNK_cost, big, poor | JUNK )* P(JUNK) = 1.157E-7\n",
    "P(medium, JUNK_cost, big, poor | high )* P(high) = 4.55E-4\n",
    "\n",
    "Test set label: high\n",
    "P(high, JUNK_cost, big, good | high)* P(high) = .0145\n",
    "P(high, JUNK_cost, big, good | JUNK)* P(JUNK) = .00003347\n",
    "\n",
    "Test set label: high\n",
    "P(high, high_cost, big, good | high)* P(high) = .00879\n",
    "P(high, high_cost, big, good | JUNK)* P(JUNK) = .0011\n",
    "\n",
    "Test set label: JUNK\n",
    "P(JUNK, high_cost, small, ave | JUNK)* P(JUNK) = .0000131\n",
    "P(JUNK, high_cost, small, ave | high)* P(high) = .0000324\n",
    "\n",
    "Test set label: high\n",
    "P(medium, med_cost, med, ave | high)* P(high) = .002913\n",
    "P(medium, med_cost, med, ave | JUNK)* P(JUNK) = .00868"
   ]
  }
 ],
 "metadata": {
  "kernelspec": {
   "display_name": "Python 3 (ipykernel)",
   "language": "python",
   "name": "python3"
  },
  "language_info": {
   "codemirror_mode": {
    "name": "ipython",
    "version": 3
   },
   "file_extension": ".py",
   "mimetype": "text/x-python",
   "name": "python",
   "nbconvert_exporter": "python",
   "pygments_lexer": "ipython3",
   "version": "3.9.12"
  }
 },
 "nbformat": 4,
 "nbformat_minor": 5
}
