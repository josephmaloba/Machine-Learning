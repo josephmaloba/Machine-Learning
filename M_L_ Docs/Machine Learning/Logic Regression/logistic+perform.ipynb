{
 "cells": [
  {
   "cell_type": "markdown",
   "id": "467a46ce-a17f-45c2-8d3b-50ffe1bfd4a2",
   "metadata": {},
   "source": [
    "# Logistic-Regression Practice"
   ]
  },
  {
   "cell_type": "markdown",
   "id": "ac1c4d86-4875-4332-8e0c-dafc314f10fe",
   "metadata": {},
   "source": [
    "We will use a version of the famous Titanic data set that requires very little cleaning."
   ]
  },
  {
   "cell_type": "code",
   "execution_count": 30,
   "id": "750d517f-fe6d-46b6-9809-77a15136c6c2",
   "metadata": {},
   "outputs": [
    {
     "data": {
      "text/html": [
       "<div>\n",
       "<style scoped>\n",
       "    .dataframe tbody tr th:only-of-type {\n",
       "        vertical-align: middle;\n",
       "    }\n",
       "\n",
       "    .dataframe tbody tr th {\n",
       "        vertical-align: top;\n",
       "    }\n",
       "\n",
       "    .dataframe thead th {\n",
       "        text-align: right;\n",
       "    }\n",
       "</style>\n",
       "<table border=\"1\" class=\"dataframe\">\n",
       "  <thead>\n",
       "    <tr style=\"text-align: right;\">\n",
       "      <th></th>\n",
       "      <th>Survived</th>\n",
       "      <th>Pclass</th>\n",
       "      <th>Name</th>\n",
       "      <th>Sex</th>\n",
       "      <th>Age</th>\n",
       "      <th>SibSp</th>\n",
       "      <th>Parch</th>\n",
       "      <th>Ticket</th>\n",
       "      <th>Fare</th>\n",
       "      <th>Cabin</th>\n",
       "      <th>Embarked</th>\n",
       "    </tr>\n",
       "    <tr>\n",
       "      <th>PassengerId</th>\n",
       "      <th></th>\n",
       "      <th></th>\n",
       "      <th></th>\n",
       "      <th></th>\n",
       "      <th></th>\n",
       "      <th></th>\n",
       "      <th></th>\n",
       "      <th></th>\n",
       "      <th></th>\n",
       "      <th></th>\n",
       "      <th></th>\n",
       "    </tr>\n",
       "  </thead>\n",
       "  <tbody>\n",
       "    <tr>\n",
       "      <th>1</th>\n",
       "      <td>0</td>\n",
       "      <td>3</td>\n",
       "      <td>Braund, Mr. Owen Harris</td>\n",
       "      <td>male</td>\n",
       "      <td>22.0</td>\n",
       "      <td>1</td>\n",
       "      <td>0</td>\n",
       "      <td>A/5 21171</td>\n",
       "      <td>7.2500</td>\n",
       "      <td>NaN</td>\n",
       "      <td>S</td>\n",
       "    </tr>\n",
       "    <tr>\n",
       "      <th>2</th>\n",
       "      <td>1</td>\n",
       "      <td>1</td>\n",
       "      <td>Cumings, Mrs. John Bradley (Florence Briggs Th...</td>\n",
       "      <td>female</td>\n",
       "      <td>38.0</td>\n",
       "      <td>1</td>\n",
       "      <td>0</td>\n",
       "      <td>PC 17599</td>\n",
       "      <td>71.2833</td>\n",
       "      <td>C85</td>\n",
       "      <td>C</td>\n",
       "    </tr>\n",
       "    <tr>\n",
       "      <th>3</th>\n",
       "      <td>1</td>\n",
       "      <td>3</td>\n",
       "      <td>Heikkinen, Miss. Laina</td>\n",
       "      <td>female</td>\n",
       "      <td>26.0</td>\n",
       "      <td>0</td>\n",
       "      <td>0</td>\n",
       "      <td>STON/O2. 3101282</td>\n",
       "      <td>7.9250</td>\n",
       "      <td>NaN</td>\n",
       "      <td>S</td>\n",
       "    </tr>\n",
       "    <tr>\n",
       "      <th>4</th>\n",
       "      <td>1</td>\n",
       "      <td>1</td>\n",
       "      <td>Futrelle, Mrs. Jacques Heath (Lily May Peel)</td>\n",
       "      <td>female</td>\n",
       "      <td>35.0</td>\n",
       "      <td>1</td>\n",
       "      <td>0</td>\n",
       "      <td>113803</td>\n",
       "      <td>53.1000</td>\n",
       "      <td>C123</td>\n",
       "      <td>S</td>\n",
       "    </tr>\n",
       "    <tr>\n",
       "      <th>5</th>\n",
       "      <td>0</td>\n",
       "      <td>3</td>\n",
       "      <td>Allen, Mr. William Henry</td>\n",
       "      <td>male</td>\n",
       "      <td>35.0</td>\n",
       "      <td>0</td>\n",
       "      <td>0</td>\n",
       "      <td>373450</td>\n",
       "      <td>8.0500</td>\n",
       "      <td>NaN</td>\n",
       "      <td>S</td>\n",
       "    </tr>\n",
       "    <tr>\n",
       "      <th>...</th>\n",
       "      <td>...</td>\n",
       "      <td>...</td>\n",
       "      <td>...</td>\n",
       "      <td>...</td>\n",
       "      <td>...</td>\n",
       "      <td>...</td>\n",
       "      <td>...</td>\n",
       "      <td>...</td>\n",
       "      <td>...</td>\n",
       "      <td>...</td>\n",
       "      <td>...</td>\n",
       "    </tr>\n",
       "    <tr>\n",
       "      <th>887</th>\n",
       "      <td>0</td>\n",
       "      <td>2</td>\n",
       "      <td>Montvila, Rev. Juozas</td>\n",
       "      <td>male</td>\n",
       "      <td>27.0</td>\n",
       "      <td>0</td>\n",
       "      <td>0</td>\n",
       "      <td>211536</td>\n",
       "      <td>13.0000</td>\n",
       "      <td>NaN</td>\n",
       "      <td>S</td>\n",
       "    </tr>\n",
       "    <tr>\n",
       "      <th>888</th>\n",
       "      <td>1</td>\n",
       "      <td>1</td>\n",
       "      <td>Graham, Miss. Margaret Edith</td>\n",
       "      <td>female</td>\n",
       "      <td>19.0</td>\n",
       "      <td>0</td>\n",
       "      <td>0</td>\n",
       "      <td>112053</td>\n",
       "      <td>30.0000</td>\n",
       "      <td>B42</td>\n",
       "      <td>S</td>\n",
       "    </tr>\n",
       "    <tr>\n",
       "      <th>889</th>\n",
       "      <td>0</td>\n",
       "      <td>3</td>\n",
       "      <td>Johnston, Miss. Catherine Helen \"Carrie\"</td>\n",
       "      <td>female</td>\n",
       "      <td>NaN</td>\n",
       "      <td>1</td>\n",
       "      <td>2</td>\n",
       "      <td>W./C. 6607</td>\n",
       "      <td>23.4500</td>\n",
       "      <td>NaN</td>\n",
       "      <td>S</td>\n",
       "    </tr>\n",
       "    <tr>\n",
       "      <th>890</th>\n",
       "      <td>1</td>\n",
       "      <td>1</td>\n",
       "      <td>Behr, Mr. Karl Howell</td>\n",
       "      <td>male</td>\n",
       "      <td>26.0</td>\n",
       "      <td>0</td>\n",
       "      <td>0</td>\n",
       "      <td>111369</td>\n",
       "      <td>30.0000</td>\n",
       "      <td>C148</td>\n",
       "      <td>C</td>\n",
       "    </tr>\n",
       "    <tr>\n",
       "      <th>891</th>\n",
       "      <td>0</td>\n",
       "      <td>3</td>\n",
       "      <td>Dooley, Mr. Patrick</td>\n",
       "      <td>male</td>\n",
       "      <td>32.0</td>\n",
       "      <td>0</td>\n",
       "      <td>0</td>\n",
       "      <td>370376</td>\n",
       "      <td>7.7500</td>\n",
       "      <td>NaN</td>\n",
       "      <td>Q</td>\n",
       "    </tr>\n",
       "  </tbody>\n",
       "</table>\n",
       "<p>891 rows × 11 columns</p>\n",
       "</div>"
      ],
      "text/plain": [
       "             Survived  Pclass  \\\n",
       "PassengerId                     \n",
       "1                   0       3   \n",
       "2                   1       1   \n",
       "3                   1       3   \n",
       "4                   1       1   \n",
       "5                   0       3   \n",
       "...               ...     ...   \n",
       "887                 0       2   \n",
       "888                 1       1   \n",
       "889                 0       3   \n",
       "890                 1       1   \n",
       "891                 0       3   \n",
       "\n",
       "                                                          Name     Sex   Age  \\\n",
       "PassengerId                                                                    \n",
       "1                                      Braund, Mr. Owen Harris    male  22.0   \n",
       "2            Cumings, Mrs. John Bradley (Florence Briggs Th...  female  38.0   \n",
       "3                                       Heikkinen, Miss. Laina  female  26.0   \n",
       "4                 Futrelle, Mrs. Jacques Heath (Lily May Peel)  female  35.0   \n",
       "5                                     Allen, Mr. William Henry    male  35.0   \n",
       "...                                                        ...     ...   ...   \n",
       "887                                      Montvila, Rev. Juozas    male  27.0   \n",
       "888                               Graham, Miss. Margaret Edith  female  19.0   \n",
       "889                   Johnston, Miss. Catherine Helen \"Carrie\"  female   NaN   \n",
       "890                                      Behr, Mr. Karl Howell    male  26.0   \n",
       "891                                        Dooley, Mr. Patrick    male  32.0   \n",
       "\n",
       "             SibSp  Parch            Ticket     Fare Cabin Embarked  \n",
       "PassengerId                                                          \n",
       "1                1      0         A/5 21171   7.2500   NaN        S  \n",
       "2                1      0          PC 17599  71.2833   C85        C  \n",
       "3                0      0  STON/O2. 3101282   7.9250   NaN        S  \n",
       "4                1      0            113803  53.1000  C123        S  \n",
       "5                0      0            373450   8.0500   NaN        S  \n",
       "...            ...    ...               ...      ...   ...      ...  \n",
       "887              0      0            211536  13.0000   NaN        S  \n",
       "888              0      0            112053  30.0000   B42        S  \n",
       "889              1      2        W./C. 6607  23.4500   NaN        S  \n",
       "890              0      0            111369  30.0000  C148        C  \n",
       "891              0      0            370376   7.7500   NaN        Q  \n",
       "\n",
       "[891 rows x 11 columns]"
      ]
     },
     "execution_count": 30,
     "metadata": {},
     "output_type": "execute_result"
    }
   ],
   "source": [
    "import pandas as pd\n",
    "import statsmodels.api as sm\n",
    "from sklearn.model_selection import train_test_split\n",
    "\n",
    "t_df = pd.read_csv(\"C:/Users/mcmal/Downloads/titanic_data.csv\", index_col='PassengerId')\n",
    "t_df"
   ]
  },
  {
   "cell_type": "markdown",
   "id": "1277147d-7faf-4dd1-990d-64cbbb15de00",
   "metadata": {},
   "source": [
    "Read in the data set."
   ]
  },
  {
   "cell_type": "code",
   "execution_count": 31,
   "id": "5d986ce5-3e91-4231-8f7d-f9cd0221238a",
   "metadata": {},
   "outputs": [
    {
     "name": "stdout",
     "output_type": "stream",
     "text": [
      "Before dropping columns: Index(['Survived', 'Pclass', 'Name', 'Sex', 'Age', 'SibSp', 'Parch', 'Ticket',\n",
      "       'Fare', 'Cabin', 'Embarked'],\n",
      "      dtype='object')\n"
     ]
    }
   ],
   "source": [
    "print(\"Before dropping columns:\", t_df.columns)"
   ]
  },
  {
   "cell_type": "code",
   "execution_count": 32,
   "id": "56ae51e4-1e56-47e2-b288-fc3f4a6b74be",
   "metadata": {},
   "outputs": [],
   "source": [
    "t_df = pd.read_csv(\"C:/Users/mcmal/Downloads/titanic_data.csv\", index_col='PassengerId')"
   ]
  },
  {
   "cell_type": "markdown",
   "id": "3ea14e68-1180-407c-aac5-59958fce899c",
   "metadata": {},
   "source": [
    "Remove columns that don't make reasonable numeric predictors."
   ]
  },
  {
   "cell_type": "code",
   "execution_count": 33,
   "id": "2e8fed58-d03e-496f-9d7e-7d38fddc23ef",
   "metadata": {},
   "outputs": [],
   "source": [
    "t_df = t_df.dropna()\n",
    "t_df.drop(columns=['Name','Cabin','Ticket'], inplace=True)"
   ]
  },
  {
   "cell_type": "markdown",
   "id": "e25460f8-9af7-4dd7-b805-baf40bfe8fed",
   "metadata": {},
   "source": [
    "Convert the remaining columns to use numeric labels."
   ]
  },
  {
   "cell_type": "code",
   "execution_count": 34,
   "id": "02720341-835c-4737-b07a-2ab69c86fbf5",
   "metadata": {},
   "outputs": [
    {
     "name": "stderr",
     "output_type": "stream",
     "text": [
      "C:\\Users\\mcmal\\AppData\\Local\\Temp\\ipykernel_21064\\3375600970.py:1: FutureWarning: A value is trying to be set on a copy of a DataFrame or Series through chained assignment using an inplace method.\n",
      "The behavior will change in pandas 3.0. This inplace method will never work because the intermediate object on which we are setting values always behaves as a copy.\n",
      "\n",
      "For example, when doing 'df[col].method(value, inplace=True)', try using 'df.method({col: value}, inplace=True)' or df[col] = df[col].method(value) instead, to perform the operation inplace on the original object.\n",
      "\n",
      "\n",
      "  t_df['Sex'].replace(['male', 'female'], [1, 0], inplace=True)\n",
      "C:\\Users\\mcmal\\AppData\\Local\\Temp\\ipykernel_21064\\3375600970.py:1: FutureWarning: Downcasting behavior in `replace` is deprecated and will be removed in a future version. To retain the old behavior, explicitly call `result.infer_objects(copy=False)`. To opt-in to the future behavior, set `pd.set_option('future.no_silent_downcasting', True)`\n",
      "  t_df['Sex'].replace(['male', 'female'], [1, 0], inplace=True)\n",
      "C:\\Users\\mcmal\\AppData\\Local\\Temp\\ipykernel_21064\\3375600970.py:2: FutureWarning: A value is trying to be set on a copy of a DataFrame or Series through chained assignment using an inplace method.\n",
      "The behavior will change in pandas 3.0. This inplace method will never work because the intermediate object on which we are setting values always behaves as a copy.\n",
      "\n",
      "For example, when doing 'df[col].method(value, inplace=True)', try using 'df.method({col: value}, inplace=True)' or df[col] = df[col].method(value) instead, to perform the operation inplace on the original object.\n",
      "\n",
      "\n",
      "  t_df['Embarked'].replace(['S', 'C', 'Q'], [0, 1, 2], inplace=True)\n",
      "C:\\Users\\mcmal\\AppData\\Local\\Temp\\ipykernel_21064\\3375600970.py:2: FutureWarning: Downcasting behavior in `replace` is deprecated and will be removed in a future version. To retain the old behavior, explicitly call `result.infer_objects(copy=False)`. To opt-in to the future behavior, set `pd.set_option('future.no_silent_downcasting', True)`\n",
      "  t_df['Embarked'].replace(['S', 'C', 'Q'], [0, 1, 2], inplace=True)\n"
     ]
    }
   ],
   "source": [
    "t_df['Sex'].replace(['male', 'female'], [1, 0], inplace=True)\n",
    "t_df['Embarked'].replace(['S', 'C', 'Q'], [0, 1, 2], inplace=True)"
   ]
  },
  {
   "cell_type": "markdown",
   "id": "dca55713-f6bb-4414-b058-5f5d1d43cc69",
   "metadata": {},
   "source": [
    "Extract the dependent and independent variables."
   ]
  },
  {
   "cell_type": "code",
   "execution_count": 35,
   "id": "0438fe4c-3909-4947-b45b-186c78078d51",
   "metadata": {},
   "outputs": [],
   "source": [
    "X = t_df.drop(columns=['Survived'])\n",
    "y = t_df['Survived']"
   ]
  },
  {
   "cell_type": "markdown",
   "id": "8eefd827-02ef-4469-9278-6e7d518bb16f",
   "metadata": {},
   "source": [
    "Split training and test sets."
   ]
  },
  {
   "cell_type": "markdown",
   "id": "a5422b95-e3ed-4e02-a83c-da21d5b75e9d",
   "metadata": {},
   "source": [
    "Notice that we are  _practicing to learn_, not creating a product, so we have not paid attention to validation vs. test."
   ]
  },
  {
   "cell_type": "code",
   "execution_count": 36,
   "id": "cd15ccd5-9bcc-4c66-a1ef-489c22777346",
   "metadata": {},
   "outputs": [],
   "source": [
    "X_train, X_test, y_train, y_test = train_test_split(X, y, test_size=0.30)"
   ]
  },
  {
   "cell_type": "markdown",
   "id": "f426daf8-24c0-455c-8a75-61000d8a29e1",
   "metadata": {},
   "source": [
    "### Run everything up to this point and check the variable explorer for the following.\n",
    "#### Do you have distinct training and test sets for the independent and dependent variables? Put the answer in your Jupyter notebook. Include the sizes of the sets in cardinality and percentage."
   ]
  },
  {
   "cell_type": "markdown",
   "id": "1c4b8bd5-2eaf-481b-86c6-fce52890e83f",
   "metadata": {},
   "source": [
    "#### Look at the two training sets and at least one test set to verify they contain what you expect.\n",
    "Are there any issues? Put the answer in your Jupyter notebook. Include an explanation or discussion if necessary."
   ]
  },
  {
   "cell_type": "code",
   "execution_count": 37,
   "id": "ba9932fd-03a9-4f44-b941-948619ae0e9d",
   "metadata": {},
   "outputs": [
    {
     "name": "stdout",
     "output_type": "stream",
     "text": [
      "                           Logit Regression Results                           \n",
      "==============================================================================\n",
      "Dep. Variable:               Survived   No. Observations:                  128\n",
      "Model:                          Logit   Df Residuals:                      120\n",
      "Method:                           MLE   Df Model:                            7\n",
      "Date:                Tue, 26 Nov 2024   Pseudo R-squ.:                  0.3491\n",
      "Time:                        14:57:23   Log-Likelihood:                -50.101\n",
      "converged:                       True   LL-Null:                       -76.968\n",
      "Covariance Type:            nonrobust   LLR p-value:                 2.655e-09\n",
      "==============================================================================\n",
      "                 coef    std err          z      P>|z|      [0.025      0.975]\n",
      "------------------------------------------------------------------------------\n",
      "const          5.3488      1.527      3.502      0.000       2.355       8.342\n",
      "Pclass        -0.2703      0.524     -0.516      0.606      -1.297       0.756\n",
      "Sex           -3.4226      0.785     -4.362      0.000      -4.960      -1.885\n",
      "Age           -0.0475      0.019     -2.485      0.013      -0.085      -0.010\n",
      "SibSp          0.0415      0.461      0.090      0.928      -0.863       0.946\n",
      "Parch         -0.4153      0.452     -0.919      0.358      -1.302       0.471\n",
      "Fare           0.0028      0.004      0.766      0.443      -0.004       0.010\n",
      "Embarked       0.1806      0.578      0.312      0.755      -0.953       1.314\n",
      "==============================================================================\n"
     ]
    }
   ],
   "source": [
    "logmodel = sm.Logit(y_train, sm.add_constant(X_train)).fit(disp=False)\n",
    "print(logmodel.summary())"
   ]
  },
  {
   "cell_type": "markdown",
   "id": "fce86115-d7d6-4cff-b519-5c6a545f31eb",
   "metadata": {},
   "source": [
    "### Are there any predictors that are not statistically significant in the conventional sense?\n",
    "\n",
    "A variable is conventionally statistically significant if its _p_ value is less than 0.05. (Do you know why?)\n",
    "\n",
    "<h3>Some predictors may not be statistically significant in the conventional sense (p < 0.05). However, without the full regression output, it's not possible to definitively state which variables are not significant.</h3>"
   ]
  },
  {
   "cell_type": "markdown",
   "id": "a2d7f628-320a-4645-910c-ac38384e5c77",
   "metadata": {},
   "source": [
    "### What variable is particularly strong in predicting survival?\n",
    "<h3>Sex appears to be a particularly strong predictor of survival.</h3>"
   ]
  },
  {
   "cell_type": "markdown",
   "id": "210fe52b-fca6-4bc8-8df6-3ec3e2e9f07a",
   "metadata": {},
   "source": [
    "### What does a negative coefficient imply and why?\n",
    "<h3>A negative coefficient implies an inverse relationship between the predictor and survival probability.</h3>"
   ]
  },
  {
   "cell_type": "markdown",
   "id": "8b6b45e0-2b4b-43bb-82b1-6bb8fb8a5173",
   "metadata": {},
   "source": [
    "### Based on your discussion, first think about what other variable ought to be a decent predictor?\n"
   ]
  },
  {
   "cell_type": "markdown",
   "id": "4dbd8241-c8a6-44e6-9487-f8d585ea35d9",
   "metadata": {},
   "source": [
    "### Next, check the report output to see if that was the case.\n",
    "Enter what variable you thought might be a good predictor and whether that turned out to be the case.\n",
    "<h3>Pclass (passenger class) is likely another decent predictor of survival, given historical accounts of the Titanic disaster.</h3>"
   ]
  },
  {
   "cell_type": "markdown",
   "id": "777744d7-7575-45b0-9481-fb7905c0e0c4",
   "metadata": {},
   "source": [
    "## Next, we wil learn about the quality of our predictions on the test set."
   ]
  },
  {
   "cell_type": "code",
   "execution_count": 38,
   "id": "8dd4560c-516f-415c-b43f-328aba6c6504",
   "metadata": {},
   "outputs": [
    {
     "name": "stdout",
     "output_type": "stream",
     "text": [
      "0.6909090909090909\n",
      "[[ 9 14]\n",
      " [ 3 29]]\n"
     ]
    }
   ],
   "source": [
    "from sklearn.metrics import accuracy_score, confusion_matrix\n",
    "\n",
    "# Form our predictions, convert continuous [0, 1] predictions to binary\n",
    "predictions = logmodel.predict(sm.add_constant(X_test))\n",
    "bin_predictions = [1 if x >= 0.5 else 0 for x in predictions]\n",
    "\n",
    "# We can now assess the accuracy and print out the confusion matrix\n",
    "print(accuracy_score(y_test, bin_predictions))\n",
    "print(confusion_matrix(y_test, bin_predictions))"
   ]
  },
  {
   "cell_type": "markdown",
   "id": "51f8df56-0d09-490d-8084-5582dd37c16b",
   "metadata": {},
   "source": [
    "## Discussion"
   ]
  },
  {
   "cell_type": "markdown",
   "id": "03d3f46b-24ed-4666-a72e-5bf6e975b99e",
   "metadata": {},
   "source": [
    "### There is another way to evaluate our model... for a variety of thresholds."
   ]
  },
  {
   "cell_type": "code",
   "execution_count": 39,
   "id": "b0f3290d-8a04-42a7-ad90-2da217b1eb2d",
   "metadata": {},
   "outputs": [
    {
     "data": {
      "text/plain": [
       "Text(0, 0.5, 'True Positive Rate')"
      ]
     },
     "execution_count": 39,
     "metadata": {},
     "output_type": "execute_result"
    },
    {
     "data": {
      "image/png": "[encoded data removed]",
      "text/plain": [
       "<Figure size 640x480 with 1 Axes>"
      ]
     },
     "metadata": {},
     "output_type": "display_data"
    }
   ],
   "source": [
    "from sklearn.metrics import roc_curve, roc_auc_score\n",
    "import matplotlib.pyplot as plt\n",
    "\n",
    "fpr, tpr, thresholds = roc_curve(y_test, predictions)\n",
    "roc_auc = roc_auc_score(y_test, predictions)\n",
    "\n",
    "plt.plot(fpr, tpr, label='ROC Curve (area = %0.3f)' % roc_auc)\n",
    "plt.title('ROC Curve (area = %0.3f)' % roc_auc)\n",
    "plt.xlabel('False Positive Rate')\n",
    "plt.ylabel('True Positive Rate')"
   ]
  }
 ],
 "metadata": {
  "kernelspec": {
   "display_name": "Python 3 (ipykernel)",
   "language": "python",
   "name": "python3"
  },
  "language_info": {
   "codemirror_mode": {
    "name": "ipython",
    "version": 3
   },
   "file_extension": ".py",
   "mimetype": "text/x-python",
   "name": "python",
   "nbconvert_exporter": "python",
   "pygments_lexer": "ipython3",
   "version": "3.12.4"
  }
 },
 "nbformat": 4,
 "nbformat_minor": 5
}
